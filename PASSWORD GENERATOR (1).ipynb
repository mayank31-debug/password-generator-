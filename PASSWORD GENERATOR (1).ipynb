{
 "cells": [
  {
   "cell_type": "code",
   "execution_count": 4,
   "id": "c3ffa22a-4dac-457b-9bd1-16fb114bc982",
   "metadata": {},
   "outputs": [
    {
     "name": "stdin",
     "output_type": "stream",
     "text": [
      "Enter the desired length of the password:  12\n"
     ]
    },
    {
     "name": "stdout",
     "output_type": "stream",
     "text": [
      "\n",
      "Generated Password: 2VW.ew\"w%%#)\n",
      "\n"
     ]
    },
    {
     "name": "stdin",
     "output_type": "stream",
     "text": [
      "Would you like to generate another password? (yes/no):  no\n"
     ]
    },
    {
     "name": "stdout",
     "output_type": "stream",
     "text": [
      "Goodbye!\n"
     ]
    }
   ],
   "source": [
    "import string\n",
    "import random\n",
    "\n",
    "# Function to generate a password\n",
    "def generate_password(length):\n",
    "    # Define characters to use in the password\n",
    "    characters = string.ascii_letters + string.digits + string.punctuation\n",
    "    # Use random.choices to pick random characters for the password\n",
    "    password = ''.join(random.choices(characters, k=length))\n",
    "    return password\n",
    "\n",
    "def main():\n",
    "    while True:\n",
    "        try:\n",
    "            # Prompt the user to specify the desired length of the password\n",
    "            length = int(input(\"Enter the desired length of the password: \"))\n",
    "            if length < 1:\n",
    "                print(\"Password length should be at least 1. Please try again.\")\n",
    "                continue\n",
    "        except ValueError:\n",
    "            print(\"Invalid input. Please enter a numeric value.\")\n",
    "            continue\n",
    "\n",
    "        # Generate the password\n",
    "        password = generate_password(length)\n",
    "        \n",
    "        # Display the generated password\n",
    "        print(f\"\\nGenerated Password: {password}\\n\")\n",
    "\n",
    "        # Ask if the user wants to generate another password\n",
    "        another = input(\"Would you like to generate another password? (yes/no): \").lower()\n",
    "        if another != 'yes':\n",
    "            print(\"Goodbye!\")\n",
    "            break\n",
    "\n",
    "if __name__ == \"__main__\":\n",
    "    main()\n"
   ]
  },
  {
   "cell_type": "code",
   "execution_count": null,
   "id": "6ff41f8e-b562-408d-a610-546b10cff008",
   "metadata": {},
   "outputs": [],
   "source": []
  }
 ],
 "metadata": {
  "kernelspec": {
   "display_name": "Python 3 (ipykernel)",
   "language": "python",
   "name": "python3"
  },
  "language_info": {
   "codemirror_mode": {
    "name": "ipython",
    "version": 3
   },
   "file_extension": ".py",
   "mimetype": "text/x-python",
   "name": "python",
   "nbconvert_exporter": "python",
   "pygments_lexer": "ipython3",
   "version": "3.11.7"
  }
 },
 "nbformat": 4,
 "nbformat_minor": 5
}
